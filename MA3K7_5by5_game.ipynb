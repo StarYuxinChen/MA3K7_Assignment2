{
 "cells": [
  {
   "cell_type": "markdown",
   "id": "0d4f6b4c-ab84-4b6c-ab66-d1a0bb409a4f",
   "metadata": {},
   "source": [
    "This is a 5 by 5 grid game, AI movement follows our conjecture of 0 strategy. I can play against it, 1 goes first."
   ]
  },
  {
   "cell_type": "code",
   "execution_count": 7,
   "id": "f3a7831d-ddf2-4079-b036-b1e4b439ce20",
   "metadata": {
    "tags": []
   },
   "outputs": [
    {
     "name": "stdout",
     "output_type": "stream",
     "text": [
      "[[None None None None None]\n",
      " [None None None None None]\n",
      " [None None None None None]\n",
      " [None None None None None]\n",
      " [None None None None None]]\n"
     ]
    },
    {
     "name": "stdin",
     "output_type": "stream",
     "text": [
      "Enter row (0 to 4):  0\n",
      "Enter column (0 to 4):  0\n"
     ]
    },
    {
     "name": "stdout",
     "output_type": "stream",
     "text": [
      "[[1 None None None None]\n",
      " [None None None None None]\n",
      " [None None None None None]\n",
      " [None None None None None]\n",
      " [None None None None None]]\n",
      "[[1 0 None None None]\n",
      " [None None None None None]\n",
      " [None None None None None]\n",
      " [None None None None None]\n",
      " [None None None None None]]\n"
     ]
    },
    {
     "name": "stdin",
     "output_type": "stream",
     "text": [
      "Enter row (0 to 4):  1\n",
      "Enter column (0 to 4):  1\n"
     ]
    },
    {
     "name": "stdout",
     "output_type": "stream",
     "text": [
      "[[1 0 None None None]\n",
      " [None 1 None None None]\n",
      " [None None None None None]\n",
      " [None None None None None]\n",
      " [None None None None None]]\n",
      "[[1 0 None None None]\n",
      " [0 1 None None None]\n",
      " [None None None None None]\n",
      " [None None None None None]\n",
      " [None None None None None]]\n"
     ]
    },
    {
     "name": "stdin",
     "output_type": "stream",
     "text": [
      "Enter row (0 to 4):  2\n",
      "Enter column (0 to 4):  1\n"
     ]
    },
    {
     "name": "stdout",
     "output_type": "stream",
     "text": [
      "[[1 0 None None None]\n",
      " [0 1 None None None]\n",
      " [None 1 None None None]\n",
      " [None None None None None]\n",
      " [None None None None None]]\n",
      "[[1 0 None None None]\n",
      " [0 1 None None None]\n",
      " [0 1 None None None]\n",
      " [None None None None None]\n",
      " [None None None None None]]\n"
     ]
    },
    {
     "name": "stdin",
     "output_type": "stream",
     "text": [
      "Enter row (0 to 4):  3\n",
      "Enter column (0 to 4):  3\n"
     ]
    },
    {
     "name": "stdout",
     "output_type": "stream",
     "text": [
      "[[1 0 None None None]\n",
      " [0 1 None None None]\n",
      " [0 1 None None None]\n",
      " [None None None 1 None]\n",
      " [None None None None None]]\n",
      "[[1 0 None None None]\n",
      " [0 1 None None None]\n",
      " [0 1 None None None]\n",
      " [None None 0 1 None]\n",
      " [None None None None None]]\n"
     ]
    },
    {
     "name": "stdin",
     "output_type": "stream",
     "text": [
      "Enter row (0 to 4):  4\n",
      "Enter column (0 to 4):  4\n"
     ]
    },
    {
     "name": "stdout",
     "output_type": "stream",
     "text": [
      "[[1 0 None None None]\n",
      " [0 1 None None None]\n",
      " [0 1 None None None]\n",
      " [None None 0 1 None]\n",
      " [None None None None 1]]\n",
      "[[1 0 0 None None]\n",
      " [0 1 None None None]\n",
      " [0 1 None None None]\n",
      " [None None 0 1 None]\n",
      " [None None None None 1]]\n"
     ]
    },
    {
     "name": "stdin",
     "output_type": "stream",
     "text": [
      "Enter row (0 to 4):  3\n",
      "Enter column (0 to 4):  4\n"
     ]
    },
    {
     "name": "stdout",
     "output_type": "stream",
     "text": [
      "[[1 0 0 None None]\n",
      " [0 1 None None None]\n",
      " [0 1 None None None]\n",
      " [None None 0 1 1]\n",
      " [None None None None 1]]\n",
      "[[1 0 0 0 None]\n",
      " [0 1 None None None]\n",
      " [0 1 None None None]\n",
      " [None None 0 1 1]\n",
      " [None None None None 1]]\n"
     ]
    },
    {
     "name": "stdin",
     "output_type": "stream",
     "text": [
      "Enter row (0 to 4):  2\n",
      "Enter column (0 to 4):  4\n"
     ]
    },
    {
     "name": "stdout",
     "output_type": "stream",
     "text": [
      "[[1 0 0 0 None]\n",
      " [0 1 None None None]\n",
      " [0 1 None None 1]\n",
      " [None None 0 1 1]\n",
      " [None None None None 1]]\n",
      "[[1 0 0 0 0]\n",
      " [0 1 None None None]\n",
      " [0 1 None None 1]\n",
      " [None None 0 1 1]\n",
      " [None None None None 1]]\n"
     ]
    },
    {
     "name": "stdin",
     "output_type": "stream",
     "text": [
      "Enter row (0 to 4):  1\n",
      "Enter column (0 to 4):  4\n"
     ]
    },
    {
     "name": "stdout",
     "output_type": "stream",
     "text": [
      "[[1 0 0 0 0]\n",
      " [0 1 None None 1]\n",
      " [0 1 None None 1]\n",
      " [None None 0 1 1]\n",
      " [None None None None 1]]\n",
      "[[1 0 0 0 0]\n",
      " [0 1 0 None 1]\n",
      " [0 1 None None 1]\n",
      " [None None 0 1 1]\n",
      " [None None None None 1]]\n"
     ]
    },
    {
     "name": "stdin",
     "output_type": "stream",
     "text": [
      "Enter row (0 to 4):  4\n",
      "Enter column (0 to 4):  1\n"
     ]
    },
    {
     "name": "stdout",
     "output_type": "stream",
     "text": [
      "[[1 0 0 0 0]\n",
      " [0 1 0 None 1]\n",
      " [0 1 None None 1]\n",
      " [None None 0 1 1]\n",
      " [None 1 None None 1]]\n",
      "[[1 0 0 0 0]\n",
      " [0 1 0 None 1]\n",
      " [0 1 None None 1]\n",
      " [None None 0 1 1]\n",
      " [0 1 None None 1]]\n"
     ]
    },
    {
     "name": "stdin",
     "output_type": "stream",
     "text": [
      "Enter row (0 to 4):  4\n",
      "Enter column (0 to 4):  3\n"
     ]
    },
    {
     "name": "stdout",
     "output_type": "stream",
     "text": [
      "[[1 0 0 0 0]\n",
      " [0 1 0 None 1]\n",
      " [0 1 None None 1]\n",
      " [None None 0 1 1]\n",
      " [0 1 None 1 1]]\n",
      "[[1 0 0 0 0]\n",
      " [0 1 0 None 1]\n",
      " [0 1 None None 1]\n",
      " [None None 0 1 1]\n",
      " [0 1 0 1 1]]\n"
     ]
    },
    {
     "name": "stdin",
     "output_type": "stream",
     "text": [
      "Enter row (0 to 4):  3\n",
      "Enter column (0 to 4):  2\n"
     ]
    },
    {
     "name": "stdout",
     "output_type": "stream",
     "text": [
      "This cell is already taken. Try a different cell.\n"
     ]
    },
    {
     "name": "stdin",
     "output_type": "stream",
     "text": [
      "Enter row (0 to 4):  3\n",
      "Enter column (0 to 4):  1\n"
     ]
    },
    {
     "name": "stdout",
     "output_type": "stream",
     "text": [
      "[[1 0 0 0 0]\n",
      " [0 1 0 None 1]\n",
      " [0 1 None None 1]\n",
      " [None 1 0 1 1]\n",
      " [0 1 0 1 1]]\n",
      "[[1 0 0 0 0]\n",
      " [0 1 0 None 1]\n",
      " [0 1 None None 1]\n",
      " [0 1 0 1 1]\n",
      " [0 1 0 1 1]]\n"
     ]
    },
    {
     "name": "stdin",
     "output_type": "stream",
     "text": [
      "Enter row (0 to 4):  2\n",
      "Enter column (0 to 4):  3\n"
     ]
    },
    {
     "name": "stdout",
     "output_type": "stream",
     "text": [
      "[[1 0 0 0 0]\n",
      " [0 1 0 None 1]\n",
      " [0 1 None 1 1]\n",
      " [0 1 0 1 1]\n",
      " [0 1 0 1 1]]\n",
      "[[1 0 0 0 0]\n",
      " [0 1 0 None 1]\n",
      " [0 1 0 1 1]\n",
      " [0 1 0 1 1]\n",
      " [0 1 0 1 1]]\n"
     ]
    },
    {
     "name": "stdin",
     "output_type": "stream",
     "text": [
      "Enter row (0 to 4):  1\n",
      "Enter column (0 to 4):  3\n"
     ]
    },
    {
     "name": "stdout",
     "output_type": "stream",
     "text": [
      "[[1 0 0 0 0]\n",
      " [0 1 0 1 1]\n",
      " [0 1 0 1 1]\n",
      " [0 1 0 1 1]\n",
      " [0 1 0 1 1]]\n",
      "Determinant is 0: 0 wins!\n"
     ]
    }
   ],
   "source": [
    "import numpy as np\n",
    "\n",
    "class StrategicGame5x5:\n",
    "    def __init__(self):\n",
    "        self.board = np.full((5, 5), None)  # Initialize a 5x5 board with None\n",
    "        self.player_turn = True  # Start with player's turn\n",
    "\n",
    "    def display_board(self):\n",
    "        print(self.board)\n",
    "\n",
    "    def make_move(self, row, col, player):\n",
    "        if self.board[row][col] is None:  # Check if the cell is empty\n",
    "            self.board[row][col] = player\n",
    "            return True\n",
    "        return False\n",
    "    \n",
    "    def check_full(self):\n",
    "        return not np.any(self.board == None)  # Check if there's any None left in the board\n",
    "    \n",
    "    def calculate_determinant(self):\n",
    "        # Convert the board to numerical values for determinant calculation\n",
    "        numeric_board = np.where(self.board == None, 0, self.board).astype(int)\n",
    "        return np.linalg.det(numeric_board)\n",
    "\n",
    "    def player_move(self):\n",
    "        valid_move = False\n",
    "        while not valid_move:\n",
    "            try:\n",
    "                row = int(input(\"Enter row (0 to 4): \"))\n",
    "                col = int(input(\"Enter column (0 to 4): \"))\n",
    "                if row < 0 or row > 4 or col < 0 or col > 4:\n",
    "                    print(\"Invalid input. Please enter numbers between 0 and 4.\")\n",
    "                else:\n",
    "                    valid_move = self.make_move(row, col, 1)  # Player is 1\n",
    "                    if not valid_move:\n",
    "                        print(\"This cell is already taken. Try a different cell.\")\n",
    "            except ValueError:\n",
    "                print(\"Please enter valid integer numbers.\")\n",
    "    \n",
    "    def ai_move(self):\n",
    "        # Implementing the strategy for AI move\n",
    "        for i in range(5):\n",
    "            for j in range(5):\n",
    "                if self.board[i][j] == 1:  # Find where player placed 1\n",
    "                    if j == 0:  # If 1 is in column 0, place 0 in column 1\n",
    "                        if self.make_move(i, 1, 0):\n",
    "                            return\n",
    "                    elif j == 1:  # If 1 is in column 1, place 0 in column 0\n",
    "                        if self.make_move(i, 0, 0):\n",
    "                            return\n",
    "                    elif j == 2:  # If 1 is in column 2, place 0 in column 3\n",
    "                        if self.make_move(i, 3, 0):\n",
    "                            return\n",
    "                    elif j == 3:  # If 1 is in column 3, place 0 in column 2\n",
    "                        if self.make_move(i, 2, 0):\n",
    "                            return\n",
    "        # If no move has been made following the strategy, just place 0 in the first empty cell\n",
    "        for i in range(5):\n",
    "            for j in range(5):\n",
    "                if self.board[i][j] is None:\n",
    "                    self.make_move(i, j, 0)\n",
    "                    return\n",
    "\n",
    "    def play(self):\n",
    "        while not self.check_full():\n",
    "            self.display_board()\n",
    "            if self.player_turn:\n",
    "                self.player_move()\n",
    "            else:\n",
    "                self.ai_move()\n",
    "            self.player_turn = not self.player_turn\n",
    "        \n",
    "        # Check the determinant to decide the winner\n",
    "        self.display_board()\n",
    "        det = self.calculate_determinant()\n",
    "        if det == 0:\n",
    "            print(\"Determinant is 0: 0 wins!\")\n",
    "        else:\n",
    "            print(\"Determinant is not 0: 1 wins!\")\n",
    "\n",
    "\n",
    "game = StrategicGame5x5()\n",
    "game.play()\n"
   ]
  },
  {
   "cell_type": "markdown",
   "id": "885d3670-3d38-4277-8585-e9d741f64efa",
   "metadata": {},
   "source": [
    "This code ask AI to generate 1000 times random game, following our strategy. The result alines with our conjecture, the determinant must be zero. We will always win the game!"
   ]
  },
  {
   "cell_type": "code",
   "execution_count": 6,
   "id": "48b58b2e-a50a-4f16-950f-810d5c4eb406",
   "metadata": {
    "tags": []
   },
   "outputs": [
    {
     "data": {
      "text/plain": [
       "1000"
      ]
     },
     "execution_count": 6,
     "metadata": {},
     "output_type": "execute_result"
    }
   ],
   "source": [
    "class StrategicDeterminantGameAuto:\n",
    "    def __init__(self):\n",
    "        self.board = np.full((5, 5), None)  # Initialize a 4x4 board with None\n",
    "\n",
    "    def make_move(self, row, col, player):\n",
    "        if self.board[row][col] is None:  # Check if the cell is empty\n",
    "            self.board[row][col] = player\n",
    "            return True\n",
    "        return False\n",
    "\n",
    "    def check_full(self):\n",
    "        # Check if the board is full\n",
    "        return not np.any(self.board == None)\n",
    "\n",
    "    def calculate_determinant(self):\n",
    "        # Prepare the board for determinant calculation\n",
    "        numeric_board = np.where(self.board == None, 0, self.board).astype(int)\n",
    "        return np.linalg.det(numeric_board)\n",
    "\n",
    "    def player_move_strategy(self):\n",
    "        # Place 1s in the board following a predefined strategy\n",
    "        for i in range(5):\n",
    "            for j in range(5):\n",
    "                if self.board[i][j] is None:\n",
    "                    self.make_move(i, j, 1)  # Player 1 makes a move\n",
    "                    return i, j  # Return the position where 1 was placed\n",
    "\n",
    "    def ai_move_strategy(self, row, col):\n",
    "        # AI places 0s strategically next to 1s according to the given rules\n",
    "        if col in [0, 2]:  # If 1 is in column 0 or 2, place 0 in the next column\n",
    "            target_col = col + 1\n",
    "        else:  # If 1 is in column 1 or 3, place 0 in the previous column\n",
    "            target_col = col - 1\n",
    "        \n",
    "        # Find the first empty cell in the target column\n",
    "        for i in range(5):\n",
    "            if self.board[i][target_col] is None:\n",
    "                self.make_move(i, target_col, 0)  # AI places 0\n",
    "                return\n",
    "\n",
    "    def play(self):\n",
    "        while not self.check_full():\n",
    "            row, col = self.player_move_strategy()\n",
    "            if self.check_full():\n",
    "                break\n",
    "            self.ai_move_strategy(row, col)\n",
    "\n",
    "        # Return the determinant to decide the winner\n",
    "        return self.calculate_determinant()\n",
    "\n",
    "# Play the game 100 times and count the number of times determinant is 0\n",
    "determinant_zero_count = 0\n",
    "for _ in range(1000):\n",
    "    game = StrategicDeterminantGameAuto()\n",
    "    det = game.play()\n",
    "    if det == 0:\n",
    "        determinant_zero_count += 1\n",
    "\n",
    "determinant_zero_count\n"
   ]
  },
  {
   "cell_type": "code",
   "execution_count": null,
   "id": "ea0f2327-efff-48ac-bcb5-46807468487c",
   "metadata": {},
   "outputs": [],
   "source": []
  }
 ],
 "metadata": {
  "kernelspec": {
   "display_name": "Python 3 (ipykernel)",
   "language": "python",
   "name": "python3"
  },
  "language_info": {
   "codemirror_mode": {
    "name": "ipython",
    "version": 3
   },
   "file_extension": ".py",
   "mimetype": "text/x-python",
   "name": "python",
   "nbconvert_exporter": "python",
   "pygments_lexer": "ipython3",
   "version": "3.11.5"
  }
 },
 "nbformat": 4,
 "nbformat_minor": 5
}
