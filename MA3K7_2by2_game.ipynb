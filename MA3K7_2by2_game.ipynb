{
 "cells": [
  {
   "cell_type": "markdown",
   "id": "ed5189e1-b598-456c-b6ff-17ddb1aafb7b",
   "metadata": {},
   "source": [
    "This is the game for me to check my strategy. The first code, ask me to input 0, 1 will give a strategical movement, trying to form a non-zero determinant. The second code, we are playing one, so that we can find that following our strategy will win the game."
   ]
  },
  {
   "cell_type": "code",
   "execution_count": 1,
   "id": "169421a7-9af4-4372-b8c6-5eca118fe5f6",
   "metadata": {
    "tags": []
   },
   "outputs": [
    {
     "name": "stdout",
     "output_type": "stream",
     "text": [
      "[None, None]\n",
      "[None, None]\n"
     ]
    },
    {
     "name": "stdin",
     "output_type": "stream",
     "text": [
      "Enter row (0 or 1):  0\n",
      "Enter column (0 or 1):  1\n"
     ]
    },
    {
     "name": "stdout",
     "output_type": "stream",
     "text": [
      "[None, 0]\n",
      "[None, None]\n",
      "[1, 0]\n",
      "[None, None]\n"
     ]
    },
    {
     "name": "stdin",
     "output_type": "stream",
     "text": [
      "Enter row (0 or 1):  1\n",
      "Enter column (0 or 1):  1\n"
     ]
    },
    {
     "name": "stdout",
     "output_type": "stream",
     "text": [
      "0 wins!\n"
     ]
    }
   ],
   "source": [
    "class Game:\n",
    "    def __init__(self):\n",
    "        self.board = [[None, None], [None, None]]  # Initialize a 2x2 board\n",
    "        self.player_turn = True  # True if it's the player's turn, False for AI\n",
    "\n",
    "    def display_board(self):\n",
    "        for row in self.board:\n",
    "            print(row)\n",
    "\n",
    "    def make_move(self, row, col, player):\n",
    "        if self.board[row][col] is None:\n",
    "            self.board[row][col] = player\n",
    "            return True\n",
    "        return False\n",
    "\n",
    "    def check_win(self, player):\n",
    "        # Check rows, columns for winning condition\n",
    "        win_conditions = [\n",
    "            self.board[0][0] == self.board[0][1] == player,\n",
    "            self.board[1][0] == self.board[1][1] == player,\n",
    "            self.board[0][0] == self.board[1][0] == player,\n",
    "            self.board[0][1] == self.board[1][1] == player,\n",
    "        ]\n",
    "        return any(win_conditions)\n",
    "\n",
    "    def player_move(self):\n",
    "        row = int(input(\"Enter row (0 or 1): \"))\n",
    "        col = int(input(\"Enter column (0 or 1): \"))\n",
    "        if not self.make_move(row, col, 0):\n",
    "            print(\"Invalid move, try again.\")\n",
    "            self.player_move()\n",
    "\n",
    "    def ai_first_move(self):\n",
    "        # AI makes its first move adjacent to the player's 0\n",
    "        if self.board[0][0] == 0:\n",
    "            self.make_move(0, 1, 1)\n",
    "        elif self.board[0][1] == 0:\n",
    "            self.make_move(0, 0, 1)\n",
    "        elif self.board[1][0] == 0:\n",
    "            self.make_move(1, 1, 1)\n",
    "        elif self.board[1][1] == 0:\n",
    "            self.make_move(1, 0, 1)\n",
    "\n",
    "    def ai_move(self):\n",
    "        # Subsequent AI moves after the first move\n",
    "        if sum(row.count(0) for row in self.board) == 1 and sum(row.count(None) for row in self.board) == 3:\n",
    "            self.ai_first_move()\n",
    "        else:\n",
    "            for i in range(2):\n",
    "                for j in range(2):\n",
    "                    if self.board[i][j] is None:\n",
    "                        self.make_move(i, j, 1)\n",
    "                        return\n",
    "\n",
    "    def play(self):\n",
    "        while True:\n",
    "            self.display_board()\n",
    "            if self.player_turn:\n",
    "                self.player_move()\n",
    "                if self.check_win(0):\n",
    "                    print(\"0 wins!\")\n",
    "                    break\n",
    "            else:\n",
    "                self.ai_move()\n",
    "                if self.check_win(1):\n",
    "                    print(\"1 wins!\")\n",
    "                    break\n",
    "            self.player_turn = not self.player_turn\n",
    "        \n",
    "\n",
    "game = Game()\n",
    "game.play()"
   ]
  },
  {
   "cell_type": "code",
   "execution_count": 2,
   "id": "111e78c2-caa2-4245-9629-2d23e45154f4",
   "metadata": {
    "tags": []
   },
   "outputs": [
    {
     "name": "stdout",
     "output_type": "stream",
     "text": [
      "[None, None]\n",
      "[None, None]\n"
     ]
    },
    {
     "name": "stdin",
     "output_type": "stream",
     "text": [
      "Enter row (0 or 1):  1\n",
      "Enter column (0 or 1):  0\n"
     ]
    },
    {
     "name": "stdout",
     "output_type": "stream",
     "text": [
      "[None, None]\n",
      "[1, None]\n",
      "[None, 0]\n",
      "[1, None]\n"
     ]
    },
    {
     "name": "stdin",
     "output_type": "stream",
     "text": [
      "Enter row (0 or 1):  1\n",
      "Enter column (0 or 1):  1\n"
     ]
    },
    {
     "name": "stdout",
     "output_type": "stream",
     "text": [
      "0 wins!\n"
     ]
    }
   ],
   "source": [
    "class OppositeCornerGame:\n",
    "    def __init__(self):\n",
    "        self.board = [[None, None], [None, None]]  # Initialize a 2x2 board\n",
    "        self.player_turn = True  # True if it's the player's turn, False for AI\n",
    "\n",
    "    def display_board(self):\n",
    "        for row in self.board:\n",
    "            print(row)\n",
    "\n",
    "    def make_move(self, row, col, player):\n",
    "        if self.board[row][col] is None:\n",
    "            self.board[row][col] = player\n",
    "            return True\n",
    "        return False\n",
    "\n",
    "    def check_win(self, player):\n",
    "        # Check rows, columns for winning condition\n",
    "        win_conditions = [\n",
    "            self.board[0][0] == self.board[0][1] == player,\n",
    "            self.board[1][0] == self.board[1][1] == player,\n",
    "            self.board[0][0] == self.board[1][0] == player,\n",
    "            self.board[0][1] == self.board[1][1] == player,\n",
    "        ]\n",
    "        return any(win_conditions)\n",
    "\n",
    "    def player_move(self):\n",
    "        row = int(input(\"Enter row (0 or 1): \"))\n",
    "        col = int(input(\"Enter column (0 or 1): \"))\n",
    "        if not self.make_move(row, col, 1):  # Player is 1\n",
    "            print(\"Invalid move, try again.\")\n",
    "            self.player_move()\n",
    "\n",
    "    def ai_move(self):\n",
    "        # AI places 0 in the opposite corner\n",
    "        if self.board[0][0] == 1:\n",
    "            self.make_move(1, 1, 0)\n",
    "        elif self.board[0][1] == 1:\n",
    "            self.make_move(1, 0, 0)\n",
    "        elif self.board[1][0] == 1:\n",
    "            self.make_move(0, 1, 0)\n",
    "        elif self.board[1][1] == 1:\n",
    "            self.make_move(0, 0, 0)\n",
    "        else:\n",
    "            # If no opposite move is possible, just fill the first available space\n",
    "            for i in range(2):\n",
    "                for j in range(2):\n",
    "                    if self.board[i][j] is None:\n",
    "                        self.make_move(i, j, 0)\n",
    "                        return\n",
    "\n",
    "    def play(self):\n",
    "        while True:\n",
    "            self.display_board()\n",
    "            if self.player_turn:\n",
    "                self.player_move()\n",
    "                if self.check_win(1):\n",
    "                    print(\"0 wins!\")\n",
    "                    break\n",
    "            else:\n",
    "                self.ai_move()\n",
    "                if self.check_win(0):\n",
    "                    print(\"1 wins!\")\n",
    "                    break\n",
    "            self.player_turn = not self.player_turn\n",
    "        \n",
    "\n",
    "game = OppositeCornerGame()\n",
    "game.play()"
   ]
  }
 ],
 "metadata": {
  "kernelspec": {
   "display_name": "Python 3 (ipykernel)",
   "language": "python",
   "name": "python3"
  },
  "language_info": {
   "codemirror_mode": {
    "name": "ipython",
    "version": 3
   },
   "file_extension": ".py",
   "mimetype": "text/x-python",
   "name": "python",
   "nbconvert_exporter": "python",
   "pygments_lexer": "ipython3",
   "version": "3.11.5"
  }
 },
 "nbformat": 4,
 "nbformat_minor": 5
}
